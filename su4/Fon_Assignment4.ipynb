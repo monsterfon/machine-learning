{
 "cells": [
  {
   "cell_type": "code",
   "execution_count": 16,
   "id": "779501cc-f1dc-4fa8-92f1-617ac96aab00",
   "metadata": {},
   "outputs": [],
   "source": [
    "from sklearn.model_selection import KFold\n",
    "import pandas as pd\n",
    "import numpy as np\n",
    "from sklearn.linear_model import LinearRegression\n",
    "from sklearn.metrics import mean_squared_error, r2_score, mean_absolute_error\n",
    "import seaborn as sb\n",
    "import matplotlib.pyplot as plt\n",
    "from sklearn.tree import DecisionTreeRegressor\n",
    "from sklearn.model_selection import cross_val_score\n",
    "from scipy.stats import linregress\n",
    "from sklearn.model_selection import LeaveOneOut\n",
    "from numbers import Number\n",
    "from sklearn.tree import DecisionTreeRegressor\n",
    "from sklearn.model_selection import cross_val_score"
   ]
  },
  {
   "cell_type": "markdown",
   "id": "9c693af4",
   "metadata": {},
   "source": [
    "1. Download the dataset \"House price\". Price is the target."
   ]
  },
  {
   "cell_type": "code",
   "execution_count": 2,
   "id": "28eb56f8-2a68-4259-8ea9-54a9abe53a33",
   "metadata": {},
   "outputs": [],
   "source": [
    "data = pd.read_csv('archive/House_Price.csv')"
   ]
  },
  {
   "cell_type": "code",
   "execution_count": 3,
   "id": "c15b0c3e-3b63-4bbd-9212-353d7db519dd",
   "metadata": {},
   "outputs": [],
   "source": [
    "data = data.sample(frac=1, random_state=34).reset_index(drop=True)"
   ]
  },
  {
   "cell_type": "code",
   "execution_count": 4,
   "id": "68670c83-c9f8-494b-9064-1c829633897c",
   "metadata": {},
   "outputs": [
    {
     "data": {
      "text/plain": [
       "np.int64(0)"
      ]
     },
     "execution_count": 4,
     "metadata": {},
     "output_type": "execute_result"
    }
   ],
   "source": [
    "#We check and see that all rows have some missing data\n",
    "count_rows_with_question_mark = (data == '?').any(axis=1).sum()\n",
    "count_rows_with_question_mark"
   ]
  },
  {
   "cell_type": "code",
   "execution_count": 5,
   "id": "5e97d505-2b71-4d03-a2e0-ca480c7e3346",
   "metadata": {},
   "outputs": [
    {
     "data": {
      "text/html": [
       "<div>\n",
       "<style scoped>\n",
       "    .dataframe tbody tr th:only-of-type {\n",
       "        vertical-align: middle;\n",
       "    }\n",
       "\n",
       "    .dataframe tbody tr th {\n",
       "        vertical-align: top;\n",
       "    }\n",
       "\n",
       "    .dataframe thead th {\n",
       "        text-align: right;\n",
       "    }\n",
       "</style>\n",
       "<table border=\"1\" class=\"dataframe\">\n",
       "  <thead>\n",
       "    <tr style=\"text-align: right;\">\n",
       "      <th></th>\n",
       "      <th>price</th>\n",
       "      <th>crime_rate</th>\n",
       "      <th>resid_area</th>\n",
       "      <th>air_qual</th>\n",
       "      <th>room_num</th>\n",
       "      <th>age</th>\n",
       "      <th>dist1</th>\n",
       "      <th>dist2</th>\n",
       "      <th>dist3</th>\n",
       "      <th>dist4</th>\n",
       "      <th>teachers</th>\n",
       "      <th>poor_prop</th>\n",
       "      <th>airport</th>\n",
       "      <th>n_hos_beds</th>\n",
       "      <th>n_hot_rooms</th>\n",
       "      <th>waterbody</th>\n",
       "      <th>rainfall</th>\n",
       "      <th>bus_ter</th>\n",
       "      <th>parks</th>\n",
       "    </tr>\n",
       "  </thead>\n",
       "  <tbody>\n",
       "    <tr>\n",
       "      <th>0</th>\n",
       "      <td>21.5</td>\n",
       "      <td>0.11069</td>\n",
       "      <td>43.89</td>\n",
       "      <td>0.550</td>\n",
       "      <td>5.951</td>\n",
       "      <td>93.8</td>\n",
       "      <td>2.92</td>\n",
       "      <td>2.88</td>\n",
       "      <td>3.08</td>\n",
       "      <td>2.68</td>\n",
       "      <td>23.6</td>\n",
       "      <td>17.92</td>\n",
       "      <td>YES</td>\n",
       "      <td>8.730</td>\n",
       "      <td>14.1720</td>\n",
       "      <td>NaN</td>\n",
       "      <td>49</td>\n",
       "      <td>YES</td>\n",
       "      <td>0.048032</td>\n",
       "    </tr>\n",
       "    <tr>\n",
       "      <th>1</th>\n",
       "      <td>50.0</td>\n",
       "      <td>6.53876</td>\n",
       "      <td>48.10</td>\n",
       "      <td>0.631</td>\n",
       "      <td>7.016</td>\n",
       "      <td>97.5</td>\n",
       "      <td>1.40</td>\n",
       "      <td>0.92</td>\n",
       "      <td>1.20</td>\n",
       "      <td>1.28</td>\n",
       "      <td>19.8</td>\n",
       "      <td>2.96</td>\n",
       "      <td>YES</td>\n",
       "      <td>10.100</td>\n",
       "      <td>12.4000</td>\n",
       "      <td>NaN</td>\n",
       "      <td>46</td>\n",
       "      <td>YES</td>\n",
       "      <td>0.059229</td>\n",
       "    </tr>\n",
       "    <tr>\n",
       "      <th>2</th>\n",
       "      <td>15.2</td>\n",
       "      <td>5.44114</td>\n",
       "      <td>48.10</td>\n",
       "      <td>0.713</td>\n",
       "      <td>6.655</td>\n",
       "      <td>98.2</td>\n",
       "      <td>2.51</td>\n",
       "      <td>2.23</td>\n",
       "      <td>2.65</td>\n",
       "      <td>2.03</td>\n",
       "      <td>19.8</td>\n",
       "      <td>17.73</td>\n",
       "      <td>YES</td>\n",
       "      <td>8.104</td>\n",
       "      <td>11.1216</td>\n",
       "      <td>NaN</td>\n",
       "      <td>41</td>\n",
       "      <td>YES</td>\n",
       "      <td>0.061386</td>\n",
       "    </tr>\n",
       "    <tr>\n",
       "      <th>3</th>\n",
       "      <td>24.3</td>\n",
       "      <td>0.53700</td>\n",
       "      <td>36.20</td>\n",
       "      <td>0.504</td>\n",
       "      <td>5.981</td>\n",
       "      <td>68.1</td>\n",
       "      <td>3.97</td>\n",
       "      <td>3.38</td>\n",
       "      <td>3.88</td>\n",
       "      <td>3.47</td>\n",
       "      <td>22.6</td>\n",
       "      <td>11.65</td>\n",
       "      <td>NO</td>\n",
       "      <td>8.286</td>\n",
       "      <td>10.1944</td>\n",
       "      <td>NaN</td>\n",
       "      <td>59</td>\n",
       "      <td>YES</td>\n",
       "      <td>0.046602</td>\n",
       "    </tr>\n",
       "    <tr>\n",
       "      <th>4</th>\n",
       "      <td>25.0</td>\n",
       "      <td>2.92400</td>\n",
       "      <td>49.58</td>\n",
       "      <td>0.605</td>\n",
       "      <td>6.101</td>\n",
       "      <td>93.0</td>\n",
       "      <td>2.37</td>\n",
       "      <td>2.28</td>\n",
       "      <td>2.59</td>\n",
       "      <td>1.89</td>\n",
       "      <td>25.3</td>\n",
       "      <td>9.81</td>\n",
       "      <td>YES</td>\n",
       "      <td>10.000</td>\n",
       "      <td>12.2000</td>\n",
       "      <td>River</td>\n",
       "      <td>22</td>\n",
       "      <td>YES</td>\n",
       "      <td>0.053283</td>\n",
       "    </tr>\n",
       "  </tbody>\n",
       "</table>\n",
       "</div>"
      ],
      "text/plain": [
       "   price  crime_rate  resid_area  air_qual  room_num   age  dist1  dist2  \\\n",
       "0   21.5     0.11069       43.89     0.550     5.951  93.8   2.92   2.88   \n",
       "1   50.0     6.53876       48.10     0.631     7.016  97.5   1.40   0.92   \n",
       "2   15.2     5.44114       48.10     0.713     6.655  98.2   2.51   2.23   \n",
       "3   24.3     0.53700       36.20     0.504     5.981  68.1   3.97   3.38   \n",
       "4   25.0     2.92400       49.58     0.605     6.101  93.0   2.37   2.28   \n",
       "\n",
       "   dist3  dist4  teachers  poor_prop airport  n_hos_beds  n_hot_rooms  \\\n",
       "0   3.08   2.68      23.6      17.92     YES       8.730      14.1720   \n",
       "1   1.20   1.28      19.8       2.96     YES      10.100      12.4000   \n",
       "2   2.65   2.03      19.8      17.73     YES       8.104      11.1216   \n",
       "3   3.88   3.47      22.6      11.65      NO       8.286      10.1944   \n",
       "4   2.59   1.89      25.3       9.81     YES      10.000      12.2000   \n",
       "\n",
       "  waterbody  rainfall bus_ter     parks  \n",
       "0       NaN        49     YES  0.048032  \n",
       "1       NaN        46     YES  0.059229  \n",
       "2       NaN        41     YES  0.061386  \n",
       "3       NaN        59     YES  0.046602  \n",
       "4     River        22     YES  0.053283  "
      ]
     },
     "execution_count": 5,
     "metadata": {},
     "output_type": "execute_result"
    }
   ],
   "source": [
    "data.head()"
   ]
  },
  {
   "cell_type": "code",
   "execution_count": null,
   "id": "c06f4714-868e-4c8e-b787-dacd76904abe",
   "metadata": {},
   "outputs": [],
   "source": [
    "\n",
    "\n",
    "data['airport'] = data['airport'].replace({'YES': 1, 'NO': 0}).infer_objects(copy=False)\n",
    "data['lake'] = data['waterbody'].isin(['Lake', 'Lake and River']).astype(int).infer_objects(copy=False)\n",
    "data['river'] = data['waterbody'].isin(['River', 'Lake and River']).astype(int).infer_objects(copy=False)\n",
    "data['bus_ter'] = data['bus_ter'].replace({'YES': 1, 'NO': 0}).infer_objects(copy=False)\n",
    "\n",
    "data.drop(columns=['airport', 'waterbody', 'bus_ter'], inplace=True)"
   ]
  },
  {
   "cell_type": "code",
   "execution_count": 7,
   "id": "2a90eee8-bd47-4021-bb7a-9408bc50049d",
   "metadata": {},
   "outputs": [
    {
     "name": "stdout",
     "output_type": "stream",
     "text": [
      "(348, 17)\n",
      "(150, 17)\n",
      "(348,)\n",
      "(150,)\n"
     ]
    }
   ],
   "source": [
    "data = data.dropna()\n",
    "\n",
    "X = data.drop(columns=['price'])\n",
    "y = data['price']\n",
    "\n",
    "split_ratio = 0.7\n",
    "split_index = int(len(data) * split_ratio) \n",
    "train_X = X.iloc[:split_index].to_numpy()\n",
    "test_X = X.iloc[split_index:].to_numpy()\n",
    "\n",
    "train_y = y.iloc[:split_index].to_numpy()\n",
    "test_y = y.iloc[split_index:].to_numpy()\n",
    "\n",
    "print(train_X.shape)\n",
    "print(test_X.shape)\n",
    "print(train_y.shape)\n",
    "print(test_y.shape)"
   ]
  },
  {
   "cell_type": "markdown",
   "id": "2b464081",
   "metadata": {},
   "source": [
    "2. Implement the regression tree algorithm from scratch."
   ]
  },
  {
   "cell_type": "markdown",
   "id": "c7d8a617",
   "metadata": {},
   "source": [
    "3. Select a criteria of your choice to stop splitting the nodes.\n",
    "\n",
    "```if (depth >= self.max_depth or n_samples < self.min_samples_split):```"
   ]
  },
  {
   "cell_type": "code",
   "execution_count": 33,
   "id": "cc644590-3b75-4191-aa5a-9d10a5186c9c",
   "metadata": {},
   "outputs": [],
   "source": [
    "class Node:\n",
    "    def __init__(self, feature=None, threshold=None, left=None, right=None, *, value=None):\n",
    "        self.feature = feature\n",
    "        self.threshold = threshold\n",
    "        self.left = left\n",
    "        self.right = right\n",
    "        self.value = value  \n",
    "        self.n_features = None\n",
    "\n",
    "    def is_leaf_node(self):\n",
    "        return self.value is not None\n",
    "\n",
    "    \n",
    "class RegressionTree:\n",
    "    def __init__(self, min_samples_split=2, max_depth=2, max_features=None):\n",
    "        self.min_samples_split = min_samples_split\n",
    "        self.max_depth = max_depth\n",
    "        self.max_features = max_features\n",
    "        self.n_features = None\n",
    "        self.root = None\n",
    "\n",
    "    def fit(self, X, y):\n",
    "        self.n_features = X.shape[1]\n",
    "        self.root = self.grow_tree(X, y)\n",
    "\n",
    "    def best_split(self, X, y):\n",
    "        n_samples, n_features = X.shape\n",
    "        if self.max_features:\n",
    "            features = np.random.choice(n_features, self.max_features, replace=False)\n",
    "        else:\n",
    "            features = range(n_features)\n",
    "\n",
    "        best_mse = float('inf')\n",
    "        split_idx, split_thresh = None, None\n",
    "        for feature in features:\n",
    "            X_column = X[:, feature]\n",
    "            thresholds = np.unique(X_column)\n",
    "            for threshold in thresholds:\n",
    "                mse = self.calculate_mse(X_column, y, threshold)\n",
    "                if mse < best_mse:\n",
    "                    best_mse = mse\n",
    "                    split_idx = feature\n",
    "                    split_thresh = threshold\n",
    "        return split_idx, split_thresh\n",
    "\n",
    "    def grow_tree(self, X, y, depth=0):\n",
    "        n_samples = X.shape[0]\n",
    "\n",
    "        if (depth >= self.max_depth or n_samples < self.min_samples_split):\n",
    "            return Node(value=np.mean(y))\n",
    "\n",
    "        feat_idx, threshold = self.best_split(X, y)\n",
    "        if feat_idx is None:\n",
    "            return Node(value=np.mean(y))\n",
    "\n",
    "        left_idxs = X[:, feat_idx] < threshold\n",
    "        right_idxs = X[:, feat_idx] >= threshold\n",
    "        left_child = self.grow_tree(X[left_idxs], y[left_idxs], depth + 1)\n",
    "        right_child = self.grow_tree(X[right_idxs], y[right_idxs], depth + 1)\n",
    "        return Node(feature=feat_idx, threshold=threshold, left=left_child, right=right_child)\n",
    "\n",
    "    def predict(self, X):\n",
    "        return np.array([self._predict(inputs) for inputs in X])\n",
    "\n",
    "    def _predict(self, inputs):\n",
    "        node = self.root\n",
    "        while node.left:\n",
    "            if inputs[node.feature] < node.threshold:\n",
    "                node = node.left\n",
    "            else:\n",
    "                node = node.right\n",
    "        return node.value"
   ]
  },
  {
   "cell_type": "markdown",
   "id": "6be0dbb0",
   "metadata": {},
   "source": [
    "4. Build a regression tree for the selected dataset."
   ]
  },
  {
   "cell_type": "code",
   "execution_count": 9,
   "id": "6ce0b32b-65fb-44e0-b822-f45a963a0846",
   "metadata": {},
   "outputs": [],
   "source": [
    "tree = RegressionTree(min_samples_split=10, max_depth=5)\n",
    "tree.fit(train_X, train_y)"
   ]
  },
  {
   "cell_type": "code",
   "execution_count": 10,
   "id": "2e064f09-be3b-4273-a523-e59b5ec454cd",
   "metadata": {},
   "outputs": [],
   "source": [
    "y_pred = tree.predict(test_X)"
   ]
  },
  {
   "cell_type": "code",
   "execution_count": 11,
   "id": "be637490-0cb9-4be2-8e6e-80bba0eaa011",
   "metadata": {},
   "outputs": [],
   "source": [
    "mse = mean_squared_error(test_y, y_pred)\n",
    "mae = mean_absolute_error(test_y, y_pred)\n",
    "r2 = r2_score(test_y, y_pred)"
   ]
  },
  {
   "cell_type": "code",
   "execution_count": 12,
   "id": "bb409b5f-e903-4b16-8a2d-35ec077640c7",
   "metadata": {},
   "outputs": [
    {
     "name": "stdout",
     "output_type": "stream",
     "text": [
      "Metric results \n",
      "MSE = 19.304885168032\n",
      "MAE = 3.0354602651734233\n",
      "R^2 = 0.7117784814017458\n"
     ]
    }
   ],
   "source": [
    "print(\"Metric results \\nMSE = {}\\nMAE = {}\\nR^2 = {}\".format(mse, mae, r2))"
   ]
  },
  {
   "cell_type": "markdown",
   "id": "f5ce9fe4",
   "metadata": {},
   "source": [
    "5. Test the regressing three using cross-validation. Test different stopping criteria"
   ]
  },
  {
   "cell_type": "code",
   "execution_count": null,
   "id": "ccf886c8-dc57-4e87-a637-04e390dcffd5",
   "metadata": {},
   "outputs": [
    {
     "name": "stdout",
     "output_type": "stream",
     "text": [
      "Best R² = 0.7790002927334596\n",
      "Best split = 30\n",
      "Best depth = 10\n"
     ]
    }
   ],
   "source": [
    "\n",
    "\n",
    "splits = [2,4,5,10,20,25,30,35,40]  \n",
    "depths = [1,2,4,5,10,20,25,30,35,40]\n",
    "best_r2 = 0\n",
    "best_split = 0\n",
    "best_depth = 0\n",
    "\n",
    "kf = KFold(n_splits=5, shuffle=True, random_state=42)\n",
    "\n",
    "for split in splits:\n",
    "    for depth in depths:\n",
    "        r2_scores = []\n",
    "        for train_index, val_index in kf.split(train_X):\n",
    "            X_train, X_val = train_X[train_index], train_X[val_index]\n",
    "            y_train, y_val = train_y[train_index], train_y[val_index]\n",
    "            \n",
    "            tree = RegressionTree(min_samples_split=split, max_depth=depth)\n",
    "            tree.fit(X_train, y_train)\n",
    "            y_pred = tree.predict(X_val)\n",
    "            r2 = r2_score(y_val, y_pred)\n",
    "            r2_scores.append(r2)\n",
    "        \n",
    "        avg_r2 = np.mean(r2_scores)\n",
    "        if avg_r2 > best_r2:\n",
    "            best_r2 = avg_r2\n",
    "            best_split = split\n",
    "            best_depth = depth\n",
    "\n",
    "print(f\"Best R² = {best_r2}\\nBest split = {best_split}\\nBest depth = {best_depth}\")"
   ]
  },
  {
   "cell_type": "code",
   "execution_count": 17,
   "id": "fd23707b-b51a-449b-aa7e-1f08f184bdc3",
   "metadata": {},
   "outputs": [
    {
     "name": "stdout",
     "output_type": "stream",
     "text": [
      "Scikit-Learn Cross-Validation Mean Squared Error: 18.53730337767283\n"
     ]
    }
   ],
   "source": [
    "\n",
    "\n",
    "sklearn_tree = DecisionTreeRegressor(min_samples_split=10, max_depth=5)\n",
    "sklearn_cv_scores = cross_val_score(sklearn_tree, X, y, cv=5, scoring='neg_mean_squared_error')\n",
    "sklearn_cv_mean_score = -np.mean(sklearn_cv_scores)\n",
    "print(f'Scikit-Learn Cross-Validation Mean Squared Error: {sklearn_cv_mean_score}')"
   ]
  },
  {
   "cell_type": "markdown",
   "id": "204994fc",
   "metadata": {},
   "source": [
    "6. Compare the cross-validation results with those you get while building a regression tree with scikit-learn. Use the same cross-validation splits on both models\n",
    "\n",
    "\n",
    "```Scikit learn -> MSE = 18.54```\n",
    "\n",
    "```Lastna implementacija -> MSE = 19.3```\n",
    "\n",
    "Razlika je zaradi globine.  V lastni implementaciji  pridemo samo do globine 5.\n",
    "\n"
   ]
  },
  {
   "cell_type": "markdown",
   "id": "82fb56ae",
   "metadata": {},
   "source": [
    "7. BONUS (+ 2 points)\n",
    "Modify your regression tree algorithm to perform as regression trees in random forest. In random forest trees in each split, only a portion of randomly chosen features is considered.\n",
    "\n",
    "Mal sem rabil tudi regression tree algoritm spremenit\n"
   ]
  },
  {
   "cell_type": "code",
   "execution_count": 34,
   "id": "f606731f-9563-46a7-b897-6f87b7046991",
   "metadata": {},
   "outputs": [],
   "source": [
    "class RandomForestRegressor:\n",
    "    def __init__(self, n_estimators=100, min_samples_split=2, max_depth=2, max_features=None):\n",
    "        self.n_estimators = n_estimators\n",
    "        self.min_samples_split = min_samples_split\n",
    "        self.max_depth = max_depth\n",
    "        self.max_features = max_features\n",
    "        self.trees = []\n",
    "\n",
    "    def fit(self, X, y):\n",
    "        self.trees = []\n",
    "        for _ in range(self.n_estimators):\n",
    "            # Bootstrap sampling\n",
    "            indices = np.random.choice(len(X), size=len(X), replace=True)\n",
    "            X_sample = X[indices]\n",
    "            y_sample = y[indices]\n",
    "            \n",
    "            tree = RegressionTree(\n",
    "                min_samples_split=self.min_samples_split,\n",
    "                max_depth=self.max_depth,\n",
    "                max_features=self.max_features\n",
    "            )\n",
    "            tree.fit(X_sample, y_sample)\n",
    "            self.trees.append(tree)\n",
    "\n",
    "    def predict(self, X):\n",
    "        \n",
    "        predictions = np.array([tree.predict(X) for tree in self.trees])\n",
    "        # Average \n",
    "        return np.mean(predictions, axis=0)"
   ]
  },
  {
   "cell_type": "code",
   "execution_count": null,
   "id": "aaf3b98f",
   "metadata": {},
   "outputs": [
    {
     "name": "stdout",
     "output_type": "stream",
     "text": [
      "Random Forest Regression Tree Mean Squared Error: 18.526284262492513\n"
     ]
    }
   ],
   "source": [
    "\n",
    "rf_regressor = RandomForestRegressor(\n",
    "    n_estimators=100,\n",
    "    min_samples_split=10,\n",
    "    max_depth=5,\n",
    "    max_features=5\n",
    ")\n",
    "\n",
    "\n",
    "X_train_np = X_train.values if hasattr(X_train, 'values') else X_train\n",
    "y_train_np = y_train.values if hasattr(y_train, 'values') else y_train\n",
    "X_test_np = test_X.values if hasattr(test_X, 'values') else test_X\n",
    "y_test_np = test_y.values if hasattr(test_y, 'values') else test_y\n",
    "\n",
    "\n",
    "rf_reg_tree = RandomForestRegressionTree(min_samples_split=10, max_depth=5, max_features=5)\n",
    "\n",
    "\n",
    "rf_reg_tree.fit(X_train_np, y_train_np)\n",
    "\n",
    "\n",
    "y_pred_rf = rf_reg_tree.predict(X_test_np)\n",
    "mse_rf = np.mean((y_test_np - y_pred_rf) ** 2)\n",
    "print(f'Random Forest Regression Tree Mean Squared Error: {mse_rf}')"
   ]
  },
  {
   "cell_type": "markdown",
   "id": "bb7febc3",
   "metadata": {},
   "source": [
    "```Lastna implementacija -> MSE = 19.3```\n",
    "\n",
    "```Scikit learn -> MSE = 18.54```\n",
    "\n",
    "```Random forest -> MSE = 18.526```"
   ]
  }
 ],
 "metadata": {
  "kernelspec": {
   "display_name": "Python 3",
   "language": "python",
   "name": "python3"
  },
  "language_info": {
   "codemirror_mode": {
    "name": "ipython",
    "version": 3
   },
   "file_extension": ".py",
   "mimetype": "text/x-python",
   "name": "python",
   "nbconvert_exporter": "python",
   "pygments_lexer": "ipython3",
   "version": "3.12.7"
  }
 },
 "nbformat": 4,
 "nbformat_minor": 5
}
