{
 "cells": [
  {
   "cell_type": "markdown",
   "metadata": {},
   "source": [
    "2 lab vaja"
   ]
  },
  {
   "cell_type": "code",
   "execution_count": null,
   "metadata": {},
   "outputs": [],
   "source": [
    "import pandas as pd\n",
    "import numpy as np\n",
    "from sklearn.linear_model import LinearRegression\n",
    "from sklearn.metrics import mean_absolute_error, mean_squared_error\n",
    "from sklearn.model_selection import train_test_split"
   ]
  },
  {
   "cell_type": "markdown",
   "metadata": {},
   "source": []
  },
  {
   "cell_type": "code",
   "execution_count": null,
   "metadata": {},
   "outputs": [],
   "source": [
    "# Step 1: Data Preprocessing\n",
    "url = \"https://archive.ics.uci.edu/ml/machine-learning-databases/communities/communities.data\"\n",
    "columns_to_remove = ['state', 'county', 'community', 'communityname', 'fold']\n",
    "target_column = 'ViolentCrimesPerPop'\n",
    "\n",
    "# Load dataset\n",
    "data = pd.read_csv(url, header=None)\n",
    "data.columns = [f'attr_{i}' for i in range(data.shape[1])]\n",
    "data = data.drop(columns=columns_to_remove)\n",
    "\n",
    "# Separate target variable\n",
    "X = data.drop(columns=[target_column])\n",
    "y = data[target_column]"
   ]
  },
  {
   "cell_type": "markdown",
   "metadata": {},
   "source": [
    "This method has high variance. Usually 5 or 10 fold split is best."
   ]
  },
  {
   "cell_type": "code",
   "execution_count": null,
   "metadata": {},
   "outputs": [],
   "source": [
    "# Step 2: Implement Cross-Validation and Leave-One-Out Method\n",
    "def cross_validation(X, y, k=5):\n",
    "    # Implement k-fold cross-validation\n",
    "    pass\n",
    "\n",
    "def leave_one_out(X, y):\n",
    "    # Implement leave-one-out cross-validation\n",
    "    pass"
   ]
  },
  {
   "cell_type": "markdown",
   "metadata": {},
   "source": [
    "We are selecting the variable that is most colosely related to "
   ]
  },
  {
   "cell_type": "code",
   "execution_count": null,
   "metadata": {},
   "outputs": [],
   "source": [
    "# Step 3: Implement Forward Attribute Selection\n",
    "def forward_selection(X, y, metric='r2', stopping_criteria=0.01):\n",
    "    selected_features = []\n",
    "    remaining_features = list(X.columns)\n",
    "    current_score, best_new_score = 0, 0\n",
    "    \n",
    "    while remaining_features and best_new_score - current_score > stopping_criteria:\n",
    "        scores_with_candidates = []\n",
    "        for candidate in remaining_features:\n",
    "            features_to_test = selected_features + [candidate]\n",
    "            X_train, X_val, y_train, y_val = train_test_split(X[features_to_test], y, test_size=0.2)\n",
    "            model = LinearRegression().fit(X_train, y_train)\n",
    "            y_pred = model.predict(X_val)\n",
    "            score = mean_squared_error(y_val, y_pred) if metric == 'mse' else model.score(X_val, y_val)\n",
    "            scores_with_candidates.append((score, candidate))\n",
    "        \n",
    "        scores_with_candidates.sort()\n",
    "        best_new_score, best_candidate = scores_with_candidates.pop()\n",
    "        if best_new_score - current_score > stopping_criteria:\n",
    "            remaining_features.remove(best_candidate)\n",
    "            selected_features.append(best_candidate)\n",
    "            current_score = best_new_score\n",
    "    \n",
    "    return selected_features"
   ]
  },
  {
   "cell_type": "markdown",
   "metadata": {},
   "source": []
  },
  {
   "cell_type": "code",
   "execution_count": null,
   "metadata": {},
   "outputs": [],
   "source": [
    "# Step 4: Model Training and Testing\n",
    "selected_features = forward_selection(X, y)\n",
    "X_train, X_test, y_train, y_test = train_test_split(X[selected_features], y, test_size=0.2)\n",
    "model = LinearRegression().fit(X_train, y_train)\n",
    "y_pred = model.predict(X_test)\n",
    "print(\"Test MAE:\", mean_absolute_error(y_test, y_pred))\n",
    "print(\"Test RMSE:\", np.sqrt(mean_squared_error(y_test, y_pred)))"
   ]
  },
  {
   "cell_type": "markdown",
   "metadata": {},
   "source": [
    "for the t stat.  knowing the probabiliy "
   ]
  },
  {
   "cell_type": "code",
   "execution_count": null,
   "metadata": {},
   "outputs": [],
   "source": [
    "# Step 5: Bootstrap Method\n",
    "bootstrap_results = []\n",
    "n_iterations = 1000\n",
    "for _ in range(n_iterations):\n",
    "    X_resample, y_resample = resample(X_train, y_train)\n",
    "    model = LinearRegression().fit(X_resample, y_resample)\n",
    "    y_pred = model.predict(X_test)\n",
    "    bootstrap_results.append(mean_absolute_error(y_test, y_pred))\n",
    "\n",
    "confidence_interval = np.percentile(bootstrap_results, [2.5, 97.5])\n",
    "print(\"95% Confidence Interval for MAE:\", confidence_interval)"
   ]
  }
 ],
 "metadata": {
  "kernelspec": {
   "display_name": "Python 3",
   "language": "python",
   "name": "python3"
  },
  "language_info": {
   "codemirror_mode": {
    "name": "ipython",
    "version": 3
   },
   "file_extension": ".py",
   "mimetype": "text/x-python",
   "name": "python",
   "nbconvert_exporter": "python",
   "pygments_lexer": "ipython3",
   "version": "3.12.7"
  }
 },
 "nbformat": 4,
 "nbformat_minor": 2
}
