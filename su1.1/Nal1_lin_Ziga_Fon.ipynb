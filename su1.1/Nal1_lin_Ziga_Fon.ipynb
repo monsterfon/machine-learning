{
 "cells": [
  {
   "cell_type": "code",
   "execution_count": 14,
   "id": "acfa360b-f685-4107-aabe-4fc461a09ffc",
   "metadata": {
    "id": "acfa360b-f685-4107-aabe-4fc461a09ffc"
   },
   "outputs": [],
   "source": [
    "import pandas as pd"
   ]
  },
  {
   "cell_type": "code",
   "execution_count": 15,
   "id": "888aef65-5a28-4068-9ba2-1483ceed3c5e",
   "metadata": {
    "id": "888aef65-5a28-4068-9ba2-1483ceed3c5e"
   },
   "outputs": [],
   "source": [
    "data = pd.read_csv('podatki_PM.csv')"
   ]
  },
  {
   "cell_type": "code",
   "execution_count": 16,
   "id": "e24c4049-0cd3-41ee-bbb2-ec09c2b4292c",
   "metadata": {
    "colab": {
     "base_uri": "https://localhost:8080/",
     "height": 313
    },
    "id": "e24c4049-0cd3-41ee-bbb2-ec09c2b4292c",
    "outputId": "fed5a5d4-2149-4944-bf37-294453281d02"
   },
   "outputs": [
    {
     "data": {
      "text/html": [
       "<div>\n",
       "<style scoped>\n",
       "    .dataframe tbody tr th:only-of-type {\n",
       "        vertical-align: middle;\n",
       "    }\n",
       "\n",
       "    .dataframe tbody tr th {\n",
       "        vertical-align: top;\n",
       "    }\n",
       "\n",
       "    .dataframe thead th {\n",
       "        text-align: right;\n",
       "    }\n",
       "</style>\n",
       "<table border=\"1\" class=\"dataframe\">\n",
       "  <thead>\n",
       "    <tr style=\"text-align: right;\">\n",
       "      <th></th>\n",
       "      <th>Datum</th>\n",
       "      <th>Glob_sevanje_mean</th>\n",
       "      <th>Hitrost_vetra_mean</th>\n",
       "      <th>Sunki_vetra_max</th>\n",
       "      <th>Padavine_sum</th>\n",
       "      <th>Vlaga_mean</th>\n",
       "      <th>Temperatura_Krvavec_mean</th>\n",
       "      <th>Temperatura_lokacija_mean</th>\n",
       "      <th>PM10</th>\n",
       "      <th>PM_vceraj</th>\n",
       "      <th>sinD</th>\n",
       "      <th>cosD</th>\n",
       "    </tr>\n",
       "  </thead>\n",
       "  <tbody>\n",
       "    <tr>\n",
       "      <th>0</th>\n",
       "      <td>2013-01-02</td>\n",
       "      <td>0.125</td>\n",
       "      <td>0.6750</td>\n",
       "      <td>2.9</td>\n",
       "      <td>0.0</td>\n",
       "      <td>79.1750</td>\n",
       "      <td>-2.9875</td>\n",
       "      <td>3.2000</td>\n",
       "      <td>44.3</td>\n",
       "      <td>51.4</td>\n",
       "      <td>0.034899</td>\n",
       "      <td>0.999391</td>\n",
       "    </tr>\n",
       "    <tr>\n",
       "      <th>1</th>\n",
       "      <td>2013-01-03</td>\n",
       "      <td>0.375</td>\n",
       "      <td>0.7375</td>\n",
       "      <td>2.6</td>\n",
       "      <td>0.0</td>\n",
       "      <td>93.5625</td>\n",
       "      <td>-4.5250</td>\n",
       "      <td>2.8750</td>\n",
       "      <td>49.0</td>\n",
       "      <td>44.3</td>\n",
       "      <td>0.052336</td>\n",
       "      <td>0.998630</td>\n",
       "    </tr>\n",
       "    <tr>\n",
       "      <th>2</th>\n",
       "      <td>2013-01-04</td>\n",
       "      <td>0.875</td>\n",
       "      <td>0.8875</td>\n",
       "      <td>3.2</td>\n",
       "      <td>0.0</td>\n",
       "      <td>93.3000</td>\n",
       "      <td>2.9625</td>\n",
       "      <td>0.6875</td>\n",
       "      <td>61.3</td>\n",
       "      <td>49.0</td>\n",
       "      <td>0.069756</td>\n",
       "      <td>0.997564</td>\n",
       "    </tr>\n",
       "    <tr>\n",
       "      <th>3</th>\n",
       "      <td>2013-01-05</td>\n",
       "      <td>0.750</td>\n",
       "      <td>1.0000</td>\n",
       "      <td>4.5</td>\n",
       "      <td>0.0</td>\n",
       "      <td>94.2625</td>\n",
       "      <td>2.9875</td>\n",
       "      <td>0.5875</td>\n",
       "      <td>38.9</td>\n",
       "      <td>61.3</td>\n",
       "      <td>0.087156</td>\n",
       "      <td>0.996195</td>\n",
       "    </tr>\n",
       "    <tr>\n",
       "      <th>4</th>\n",
       "      <td>2013-01-06</td>\n",
       "      <td>0.250</td>\n",
       "      <td>0.5750</td>\n",
       "      <td>2.3</td>\n",
       "      <td>0.0</td>\n",
       "      <td>87.6500</td>\n",
       "      <td>-0.2500</td>\n",
       "      <td>3.1625</td>\n",
       "      <td>30.3</td>\n",
       "      <td>38.9</td>\n",
       "      <td>0.104528</td>\n",
       "      <td>0.994522</td>\n",
       "    </tr>\n",
       "  </tbody>\n",
       "</table>\n",
       "</div>"
      ],
      "text/plain": [
       "        Datum  Glob_sevanje_mean  Hitrost_vetra_mean  Sunki_vetra_max  \\\n",
       "0  2013-01-02              0.125              0.6750              2.9   \n",
       "1  2013-01-03              0.375              0.7375              2.6   \n",
       "2  2013-01-04              0.875              0.8875              3.2   \n",
       "3  2013-01-05              0.750              1.0000              4.5   \n",
       "4  2013-01-06              0.250              0.5750              2.3   \n",
       "\n",
       "   Padavine_sum  Vlaga_mean  Temperatura_Krvavec_mean  \\\n",
       "0           0.0     79.1750                   -2.9875   \n",
       "1           0.0     93.5625                   -4.5250   \n",
       "2           0.0     93.3000                    2.9625   \n",
       "3           0.0     94.2625                    2.9875   \n",
       "4           0.0     87.6500                   -0.2500   \n",
       "\n",
       "   Temperatura_lokacija_mean  PM10  PM_vceraj      sinD      cosD  \n",
       "0                     3.2000  44.3       51.4  0.034899  0.999391  \n",
       "1                     2.8750  49.0       44.3  0.052336  0.998630  \n",
       "2                     0.6875  61.3       49.0  0.069756  0.997564  \n",
       "3                     0.5875  38.9       61.3  0.087156  0.996195  \n",
       "4                     3.1625  30.3       38.9  0.104528  0.994522  "
      ]
     },
     "execution_count": 16,
     "metadata": {},
     "output_type": "execute_result"
    }
   ],
   "source": [
    "data.head()"
   ]
  },
  {
   "cell_type": "code",
   "execution_count": 17,
   "id": "784bdb32-bc07-48e0-a6c6-1b721487bd00",
   "metadata": {
    "colab": {
     "base_uri": "https://localhost:8080/"
    },
    "id": "784bdb32-bc07-48e0-a6c6-1b721487bd00",
    "outputId": "c53a0127-6619-43b1-a8fd-453bb039af68"
   },
   "outputs": [
    {
     "data": {
      "text/plain": [
       "1213"
      ]
     },
     "execution_count": 17,
     "metadata": {},
     "output_type": "execute_result"
    }
   ],
   "source": [
    "data.shape[0] #Prvotno št. vrstic"
   ]
  },
  {
   "cell_type": "code",
   "execution_count": 18,
   "id": "b1cc94d5-b014-4a14-a7de-69e38a410446",
   "metadata": {
    "colab": {
     "base_uri": "https://localhost:8080/",
     "height": 226
    },
    "id": "b1cc94d5-b014-4a14-a7de-69e38a410446",
    "outputId": "7a64decb-cc2b-4b38-cd3b-4fd27e133dbf"
   },
   "outputs": [
    {
     "data": {
      "text/html": [
       "<div>\n",
       "<style scoped>\n",
       "    .dataframe tbody tr th:only-of-type {\n",
       "        vertical-align: middle;\n",
       "    }\n",
       "\n",
       "    .dataframe tbody tr th {\n",
       "        vertical-align: top;\n",
       "    }\n",
       "\n",
       "    .dataframe thead th {\n",
       "        text-align: right;\n",
       "    }\n",
       "</style>\n",
       "<table border=\"1\" class=\"dataframe\">\n",
       "  <thead>\n",
       "    <tr style=\"text-align: right;\">\n",
       "      <th></th>\n",
       "      <th>Glob_sevanje_mean</th>\n",
       "      <th>Hitrost_vetra_mean</th>\n",
       "      <th>Sunki_vetra_max</th>\n",
       "      <th>Padavine_sum</th>\n",
       "      <th>Vlaga_mean</th>\n",
       "      <th>Temperatura_Krvavec_mean</th>\n",
       "      <th>Temperatura_lokacija_mean</th>\n",
       "      <th>PM10</th>\n",
       "      <th>PM_vceraj</th>\n",
       "      <th>sinD</th>\n",
       "      <th>cosD</th>\n",
       "    </tr>\n",
       "  </thead>\n",
       "  <tbody>\n",
       "    <tr>\n",
       "      <th>0</th>\n",
       "      <td>0.125</td>\n",
       "      <td>0.6750</td>\n",
       "      <td>2.9</td>\n",
       "      <td>0.0</td>\n",
       "      <td>79.1750</td>\n",
       "      <td>-2.9875</td>\n",
       "      <td>3.2000</td>\n",
       "      <td>44.3</td>\n",
       "      <td>51.4</td>\n",
       "      <td>0.034899</td>\n",
       "      <td>0.999391</td>\n",
       "    </tr>\n",
       "    <tr>\n",
       "      <th>1</th>\n",
       "      <td>0.375</td>\n",
       "      <td>0.7375</td>\n",
       "      <td>2.6</td>\n",
       "      <td>0.0</td>\n",
       "      <td>93.5625</td>\n",
       "      <td>-4.5250</td>\n",
       "      <td>2.8750</td>\n",
       "      <td>49.0</td>\n",
       "      <td>44.3</td>\n",
       "      <td>0.052336</td>\n",
       "      <td>0.998630</td>\n",
       "    </tr>\n",
       "    <tr>\n",
       "      <th>2</th>\n",
       "      <td>0.875</td>\n",
       "      <td>0.8875</td>\n",
       "      <td>3.2</td>\n",
       "      <td>0.0</td>\n",
       "      <td>93.3000</td>\n",
       "      <td>2.9625</td>\n",
       "      <td>0.6875</td>\n",
       "      <td>61.3</td>\n",
       "      <td>49.0</td>\n",
       "      <td>0.069756</td>\n",
       "      <td>0.997564</td>\n",
       "    </tr>\n",
       "    <tr>\n",
       "      <th>3</th>\n",
       "      <td>0.750</td>\n",
       "      <td>1.0000</td>\n",
       "      <td>4.5</td>\n",
       "      <td>0.0</td>\n",
       "      <td>94.2625</td>\n",
       "      <td>2.9875</td>\n",
       "      <td>0.5875</td>\n",
       "      <td>38.9</td>\n",
       "      <td>61.3</td>\n",
       "      <td>0.087156</td>\n",
       "      <td>0.996195</td>\n",
       "    </tr>\n",
       "    <tr>\n",
       "      <th>4</th>\n",
       "      <td>0.250</td>\n",
       "      <td>0.5750</td>\n",
       "      <td>2.3</td>\n",
       "      <td>0.0</td>\n",
       "      <td>87.6500</td>\n",
       "      <td>-0.2500</td>\n",
       "      <td>3.1625</td>\n",
       "      <td>30.3</td>\n",
       "      <td>38.9</td>\n",
       "      <td>0.104528</td>\n",
       "      <td>0.994522</td>\n",
       "    </tr>\n",
       "  </tbody>\n",
       "</table>\n",
       "</div>"
      ],
      "text/plain": [
       "   Glob_sevanje_mean  Hitrost_vetra_mean  Sunki_vetra_max  Padavine_sum  \\\n",
       "0              0.125              0.6750              2.9           0.0   \n",
       "1              0.375              0.7375              2.6           0.0   \n",
       "2              0.875              0.8875              3.2           0.0   \n",
       "3              0.750              1.0000              4.5           0.0   \n",
       "4              0.250              0.5750              2.3           0.0   \n",
       "\n",
       "   Vlaga_mean  Temperatura_Krvavec_mean  Temperatura_lokacija_mean  PM10  \\\n",
       "0     79.1750                   -2.9875                     3.2000  44.3   \n",
       "1     93.5625                   -4.5250                     2.8750  49.0   \n",
       "2     93.3000                    2.9625                     0.6875  61.3   \n",
       "3     94.2625                    2.9875                     0.5875  38.9   \n",
       "4     87.6500                   -0.2500                     3.1625  30.3   \n",
       "\n",
       "   PM_vceraj      sinD      cosD  \n",
       "0       51.4  0.034899  0.999391  \n",
       "1       44.3  0.052336  0.998630  \n",
       "2       49.0  0.069756  0.997564  \n",
       "3       61.3  0.087156  0.996195  \n",
       "4       38.9  0.104528  0.994522  "
      ]
     },
     "execution_count": 18,
     "metadata": {},
     "output_type": "execute_result"
    }
   ],
   "source": [
    "data = data.dropna() #Se znebimo manjkajoćih (33 vrednosti)\n",
    "data = data.drop(columns=['Datum'])\n",
    "data.head()"
   ]
  },
  {
   "cell_type": "code",
   "execution_count": 19,
   "id": "2212474e-fd4a-4e22-a2b2-a4f6b61a4a39",
   "metadata": {
    "colab": {
     "base_uri": "https://localhost:8080/"
    },
    "id": "2212474e-fd4a-4e22-a2b2-a4f6b61a4a39",
    "outputId": "fdc7e4c5-4ef9-4e71-a235-9dfa33e7ada5"
   },
   "outputs": [
    {
     "data": {
      "text/plain": [
       "1180"
      ]
     },
     "execution_count": 19,
     "metadata": {},
     "output_type": "execute_result"
    }
   ],
   "source": [
    "data.shape[0]"
   ]
  },
  {
   "cell_type": "code",
   "execution_count": 20,
   "id": "7b730744-fdbb-43d0-b9b1-a40959690d81",
   "metadata": {
    "id": "7b730744-fdbb-43d0-b9b1-a40959690d81"
   },
   "outputs": [],
   "source": [
    "split_ratio = 0.8 #Nastavimo razdelitev na testno in učno množico\n",
    "split_index = int(len(data) * split_ratio)\n",
    "train_data = data.iloc[:split_index]\n",
    "test_data = data.iloc[split_index:]\n",
    "\n",
    "\n",
    "X_train = train_data.drop(columns=['PM10']).values\n",
    "y_train = train_data['PM10'].values\n",
    "\n",
    "X_test = test_data.drop(columns=['PM10']).values\n",
    "y_test = test_data['PM10'].values\n"
   ]
  },
  {
   "cell_type": "code",
   "execution_count": 21,
   "id": "a5dbd4f4-7d9b-41ff-af9a-142d70a87506",
   "metadata": {
    "colab": {
     "base_uri": "https://localhost:8080/"
    },
    "id": "a5dbd4f4-7d9b-41ff-af9a-142d70a87506",
    "outputId": "9424d1ea-bacf-4553-9cf4-f1d3ff95a565"
   },
   "outputs": [
    {
     "data": {
      "text/plain": [
       "236"
      ]
     },
     "execution_count": 21,
     "metadata": {},
     "output_type": "execute_result"
    }
   ],
   "source": [
    "test_data.shape[0]"
   ]
  },
  {
   "cell_type": "code",
   "execution_count": 22,
   "id": "2ba27fa1-1f23-43ac-8c51-187ce235bc83",
   "metadata": {
    "colab": {
     "base_uri": "https://localhost:8080/"
    },
    "id": "2ba27fa1-1f23-43ac-8c51-187ce235bc83",
    "outputId": "9afcf56e-b29e-4f9f-b30c-682cfa9709e0"
   },
   "outputs": [
    {
     "name": "stdout",
     "output_type": "stream",
     "text": [
      "Manual Linear Regression MSE: 70.0904926179602\n"
     ]
    }
   ],
   "source": [
    "import numpy as np\n",
    "theta = np.linalg.inv(X_train.T @ X_train) @ X_train.T @ y_train\n",
    "\n",
    "y_pred = X_test @ theta\n",
    "\n",
    "mse_manual = np.mean((y_pred - y_test) ** 2)\n",
    "print(f'Manual Linear Regression MSE: {mse_manual}')\n"
   ]
  },
  {
   "cell_type": "code",
   "execution_count": 23,
   "id": "1RqTK-Vfq39J",
   "metadata": {
    "colab": {
     "base_uri": "https://localhost:8080/"
    },
    "id": "1RqTK-Vfq39J",
    "outputId": "5345ea1c-bf66-41a1-b0c8-e4105f545890"
   },
   "outputs": [
    {
     "name": "stdout",
     "output_type": "stream",
     "text": [
      "SciKit-learn Linear Regression MSE: 68.73368652278317\n"
     ]
    }
   ],
   "source": [
    "from sklearn.linear_model import LinearRegression\n",
    "from sklearn.metrics import mean_squared_error\n",
    "\n",
    "model = LinearRegression()\n",
    "model.fit(X_train[:, 1:], y_train)\n",
    "\n",
    "y_pred_sklearn = model.predict(X_test[:, 1:])\n",
    "\n",
    "\n",
    "mse_sklearn = mean_squared_error(y_test, y_pred_sklearn)\n",
    "print(f'SciKit-learn Linear Regression MSE: {mse_sklearn}')\n"
   ]
  },
  {
   "cell_type": "code",
   "execution_count": 24,
   "id": "IKcepx0rtzJt",
   "metadata": {
    "colab": {
     "base_uri": "https://localhost:8080/",
     "height": 472
    },
    "id": "IKcepx0rtzJt",
    "outputId": "70e8a1fb-f6e5-40bd-f495-6376a8d713d9"
   },
   "outputs": [
    {
     "data": {
      "image/png": "[encoded data removed]",
      "text/plain": [
       "<Figure size 640x480 with 1 Axes>"
      ]
     },
     "metadata": {},
     "output_type": "display_data"
    }
   ],
   "source": [
    "import matplotlib.pyplot as plt\n",
    "\n",
    "\n",
    "\n",
    "residuals = y_test - y_pred\n",
    "\n",
    "plt.scatter(y_pred, residuals)\n",
    "plt.xlabel('Predicted PM10')\n",
    "plt.ylabel('Residuals')\n",
    "plt.title('Residual Plot')\n",
    "plt.axhline(0, color='red', linestyle='--')\n",
    "plt.show()\n"
   ]
  },
  {
   "cell_type": "code",
   "execution_count": null,
   "id": "WIwppA5Ut5L8",
   "metadata": {
    "colab": {
     "base_uri": "https://localhost:8080/"
    },
    "id": "WIwppA5Ut5L8",
    "outputId": "470eb65f-6856-4861-b659-efea332f3bc4"
   },
   "outputs": [
    {
     "name": "stdout",
     "output_type": "stream",
     "text": [
      "Log-transformed Linear Regression MSE is significantly worse: 144.08429808319573\n",
      "Scaled Linear Regression MSE even worse: 624.1237832572824\n"
     ]
    }
   ],
   "source": [
    "#log transformacija\n",
    "y_train_log = np.log1p(y_train)\n",
    "y_test_log = np.log1p(y_test)\n",
    "theta_log = np.linalg.inv(X_train.T @ X_train) @ X_train.T @ y_train_log\n",
    "y_pred_log = X_test @ theta_log\n",
    "mse_log = np.mean((np.expm1(y_pred_log) - y_test) ** 2)\n",
    "print(f'Log-transformed Linear Regression MSE is significantly worse: {mse_log}')\n",
    "\n",
    "#skaliranje značilk\n",
    "from sklearn.preprocessing import StandardScaler\n",
    "scaler = StandardScaler()\n",
    "X_train_scaled = scaler.fit_transform(X_train)\n",
    "X_test_scaled = scaler.transform(X_test)\n",
    "theta_scaled = np.linalg.inv(X_train_scaled.T @ X_train_scaled) @ X_train_scaled.T @ y_train\n",
    "y_pred_scaled = X_test_scaled @ theta_scaled\n",
    "mse_scaled = np.mean((y_pred_scaled - y_test) ** 2)\n",
    "print(f'Scaled Linear Regression MSE even worse: {mse_scaled}')\n",
    "\n",
    "\n"
   ]
  },
  {
   "cell_type": "code",
   "execution_count": 27,
   "id": "W4K3I8NYu57C",
   "metadata": {
    "id": "W4K3I8NYu57C"
   },
   "outputs": [],
   "source": [
    "\n"
   ]
  }
 ],
 "metadata": {
  "colab": {
   "provenance": []
  },
  "kernelspec": {
   "display_name": "Python 3",
   "language": "python",
   "name": "python3"
  },
  "language_info": {
   "codemirror_mode": {
    "name": "ipython",
    "version": 3
   },
   "file_extension": ".py",
   "mimetype": "text/x-python",
   "name": "python",
   "nbconvert_exporter": "python",
   "pygments_lexer": "ipython3",
   "version": "3.12.5"
  }
 },
 "nbformat": 4,
 "nbformat_minor": 5
}
